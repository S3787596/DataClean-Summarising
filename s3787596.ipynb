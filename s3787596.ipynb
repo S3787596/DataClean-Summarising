{
 "cells": [
  {
   "cell_type": "markdown",
   "metadata": {
    "id": "u-EEv9utoT69"
   },
   "source": [
    "# Task 1: Data Preparation\n"
   ]
  },
  {
   "cell_type": "code",
   "execution_count": 1,
   "metadata": {
    "id": "RU9Pm6LKfToO"
   },
   "outputs": [],
   "source": [
    "import pandas as pd\n",
    "import numpy as np\n",
    "\n",
    "primary = pd.read_csv('Primary.csv')\n",
    "primary.columns = primary.iloc[0]\n",
    "primary = primary.iloc[1:]\n",
    "\n",
    "secondary = pd.read_csv('Secondary.csv')\n",
    "secondary.columns = secondary.iloc[0]\n",
    "secondary = secondary.iloc[1:]\n",
    "\n",
    "totalschoolage = pd.read_csv('Total School Age.csv')\n",
    "totalschoolage.columns = totalschoolage.iloc[0]\n",
    "totalschoolage = totalschoolage.iloc[1:]"
   ]
  },
  {
   "cell_type": "code",
   "execution_count": 2,
   "metadata": {},
   "outputs": [
    {
     "data": {
      "text/html": [
       "<div>\n",
       "<style scoped>\n",
       "    .dataframe tbody tr th:only-of-type {\n",
       "        vertical-align: middle;\n",
       "    }\n",
       "\n",
       "    .dataframe tbody tr th {\n",
       "        vertical-align: top;\n",
       "    }\n",
       "\n",
       "    .dataframe thead th {\n",
       "        text-align: right;\n",
       "    }\n",
       "</style>\n",
       "<table border=\"1\" class=\"dataframe\">\n",
       "  <thead>\n",
       "    <tr style=\"text-align: right;\">\n",
       "      <th></th>\n",
       "      <th>ISO3</th>\n",
       "      <th>Countries and areas</th>\n",
       "      <th>Region</th>\n",
       "      <th>Sub-region</th>\n",
       "      <th>Income Group</th>\n",
       "      <th>Total</th>\n",
       "      <th>Rural (Residence)</th>\n",
       "      <th>Urban (Residence)</th>\n",
       "      <th>Poorest (Wealth quintile)</th>\n",
       "      <th>Richest (Wealth quintile)</th>\n",
       "      <th>Data source</th>\n",
       "      <th>Time period</th>\n",
       "    </tr>\n",
       "  </thead>\n",
       "  <tbody>\n",
       "    <tr>\n",
       "      <th>1</th>\n",
       "      <td>AGO</td>\n",
       "      <td>Angola</td>\n",
       "      <td>SSA</td>\n",
       "      <td>ESA</td>\n",
       "      <td>Lower middle income (LM)</td>\n",
       "      <td>15%</td>\n",
       "      <td>2%</td>\n",
       "      <td>22%</td>\n",
       "      <td>0%</td>\n",
       "      <td>61%</td>\n",
       "      <td>Demographic and Health Survey</td>\n",
       "      <td>2015-16</td>\n",
       "    </tr>\n",
       "    <tr>\n",
       "      <th>2</th>\n",
       "      <td>ARG</td>\n",
       "      <td>Argentina</td>\n",
       "      <td>LAC</td>\n",
       "      <td>LAC</td>\n",
       "      <td>Upper middle income (UM)</td>\n",
       "      <td>39%</td>\n",
       "      <td>NaN</td>\n",
       "      <td>NaN</td>\n",
       "      <td>NaN</td>\n",
       "      <td>NaN</td>\n",
       "      <td>Multiple Indicator Cluster Survey</td>\n",
       "      <td>2011-12</td>\n",
       "    </tr>\n",
       "    <tr>\n",
       "      <th>3</th>\n",
       "      <td>ARM</td>\n",
       "      <td>Armenia</td>\n",
       "      <td>ECA</td>\n",
       "      <td>EECA</td>\n",
       "      <td>Upper middle income (UM)</td>\n",
       "      <td>81%</td>\n",
       "      <td>69%</td>\n",
       "      <td>89%</td>\n",
       "      <td>46%</td>\n",
       "      <td>99%</td>\n",
       "      <td>Demographic and Health Survey</td>\n",
       "      <td>2015-16</td>\n",
       "    </tr>\n",
       "    <tr>\n",
       "      <th>4</th>\n",
       "      <td>BGD</td>\n",
       "      <td>Bangladesh</td>\n",
       "      <td>SA</td>\n",
       "      <td>SA</td>\n",
       "      <td>Lower middle income (LM)</td>\n",
       "      <td>34%</td>\n",
       "      <td>30%</td>\n",
       "      <td>49%</td>\n",
       "      <td>7%</td>\n",
       "      <td>75%</td>\n",
       "      <td>Multiple Indicator Cluster Survey</td>\n",
       "      <td>2019</td>\n",
       "    </tr>\n",
       "    <tr>\n",
       "      <th>5</th>\n",
       "      <td>BRB</td>\n",
       "      <td>Barbados</td>\n",
       "      <td>LAC</td>\n",
       "      <td>LAC</td>\n",
       "      <td>High income (H)</td>\n",
       "      <td>63%</td>\n",
       "      <td>54%</td>\n",
       "      <td>68%</td>\n",
       "      <td>9%</td>\n",
       "      <td>97%</td>\n",
       "      <td>Multiple Indicator Cluster Survey</td>\n",
       "      <td>2012</td>\n",
       "    </tr>\n",
       "  </tbody>\n",
       "</table>\n",
       "</div>"
      ],
      "text/plain": [
       "0 ISO3 Countries and areas Region Sub-region              Income Group Total  \\\n",
       "1  AGO              Angola    SSA        ESA  Lower middle income (LM)   15%   \n",
       "2  ARG           Argentina    LAC        LAC  Upper middle income (UM)   39%   \n",
       "3  ARM             Armenia    ECA       EECA  Upper middle income (UM)   81%   \n",
       "4  BGD          Bangladesh     SA         SA  Lower middle income (LM)   34%   \n",
       "5  BRB            Barbados    LAC        LAC           High income (H)   63%   \n",
       "\n",
       "0 Rural (Residence) Urban (Residence) Poorest (Wealth quintile)  \\\n",
       "1                2%               22%                        0%   \n",
       "2               NaN               NaN                       NaN   \n",
       "3               69%               89%                       46%   \n",
       "4               30%               49%                        7%   \n",
       "5               54%               68%                        9%   \n",
       "\n",
       "0 Richest (Wealth quintile)                        Data source Time period  \n",
       "1                       61%      Demographic and Health Survey     2015-16  \n",
       "2                       NaN  Multiple Indicator Cluster Survey     2011-12  \n",
       "3                       99%      Demographic and Health Survey     2015-16  \n",
       "4                       75%  Multiple Indicator Cluster Survey        2019  \n",
       "5                       97%  Multiple Indicator Cluster Survey        2012  "
      ]
     },
     "execution_count": 2,
     "metadata": {},
     "output_type": "execute_result"
    }
   ],
   "source": [
    "primary.head()"
   ]
  },
  {
   "cell_type": "code",
   "execution_count": 3,
   "metadata": {},
   "outputs": [
    {
     "data": {
      "text/html": [
       "<div>\n",
       "<style scoped>\n",
       "    .dataframe tbody tr th:only-of-type {\n",
       "        vertical-align: middle;\n",
       "    }\n",
       "\n",
       "    .dataframe tbody tr th {\n",
       "        vertical-align: top;\n",
       "    }\n",
       "\n",
       "    .dataframe thead th {\n",
       "        text-align: right;\n",
       "    }\n",
       "</style>\n",
       "<table border=\"1\" class=\"dataframe\">\n",
       "  <thead>\n",
       "    <tr style=\"text-align: right;\">\n",
       "      <th></th>\n",
       "      <th>ISO3</th>\n",
       "      <th>Countries and areas</th>\n",
       "      <th>Region</th>\n",
       "      <th>Sub-region</th>\n",
       "      <th>Income Group</th>\n",
       "      <th>Total</th>\n",
       "      <th>Rural (Residence)</th>\n",
       "      <th>Urban (Residence)</th>\n",
       "      <th>Poorest (Wealth quintile)</th>\n",
       "      <th>Richest (Wealth quintile)</th>\n",
       "      <th>Data source</th>\n",
       "      <th>Time period</th>\n",
       "    </tr>\n",
       "  </thead>\n",
       "  <tbody>\n",
       "    <tr>\n",
       "      <th>1</th>\n",
       "      <td>AGOA</td>\n",
       "      <td>Angola</td>\n",
       "      <td>SSA</td>\n",
       "      <td>ESA</td>\n",
       "      <td>Lower middle income (LM)</td>\n",
       "      <td>24%</td>\n",
       "      <td>2%</td>\n",
       "      <td>33%</td>\n",
       "      <td>0%</td>\n",
       "      <td>69%</td>\n",
       "      <td>Demographic and Health Survey</td>\n",
       "      <td>2015-16</td>\n",
       "    </tr>\n",
       "    <tr>\n",
       "      <th>2</th>\n",
       "      <td>ARG</td>\n",
       "      <td>Argentina</td>\n",
       "      <td>LAC</td>\n",
       "      <td>LAC</td>\n",
       "      <td>Upper middle income (UM)</td>\n",
       "      <td>45%</td>\n",
       "      <td>NaN</td>\n",
       "      <td>NaN</td>\n",
       "      <td>NaN</td>\n",
       "      <td>NaN</td>\n",
       "      <td>Multiple Indicator Cluster Survey</td>\n",
       "      <td>2011-12</td>\n",
       "    </tr>\n",
       "    <tr>\n",
       "      <th>3</th>\n",
       "      <td>ARM</td>\n",
       "      <td>Armenia</td>\n",
       "      <td>ECA</td>\n",
       "      <td>EECA</td>\n",
       "      <td>Upper middle income (UM)</td>\n",
       "      <td>85%</td>\n",
       "      <td>78%</td>\n",
       "      <td>91%</td>\n",
       "      <td>54%</td>\n",
       "      <td>100%</td>\n",
       "      <td>Demographic and Health Survey</td>\n",
       "      <td>2015-16</td>\n",
       "    </tr>\n",
       "    <tr>\n",
       "      <th>4</th>\n",
       "      <td>BGD</td>\n",
       "      <td>Bangladesh</td>\n",
       "      <td>SA</td>\n",
       "      <td>SA</td>\n",
       "      <td>Lower middle income (LM)</td>\n",
       "      <td>42%</td>\n",
       "      <td>38%</td>\n",
       "      <td>57%</td>\n",
       "      <td>13%</td>\n",
       "      <td>79%</td>\n",
       "      <td>Multiple Indicator Cluster Survey</td>\n",
       "      <td>2019</td>\n",
       "    </tr>\n",
       "    <tr>\n",
       "      <th>5</th>\n",
       "      <td>BRB</td>\n",
       "      <td>Barbados</td>\n",
       "      <td>LAC</td>\n",
       "      <td>LAC</td>\n",
       "      <td>High income (H)</td>\n",
       "      <td>76%</td>\n",
       "      <td>76%</td>\n",
       "      <td>76%</td>\n",
       "      <td>4%</td>\n",
       "      <td>100%</td>\n",
       "      <td>Multiple Indicator Cluster Survey</td>\n",
       "      <td>2012</td>\n",
       "    </tr>\n",
       "  </tbody>\n",
       "</table>\n",
       "</div>"
      ],
      "text/plain": [
       "0  ISO3 Countries and areas Region Sub-region              Income Group Total  \\\n",
       "1  AGOA              Angola    SSA        ESA  Lower middle income (LM)   24%   \n",
       "2   ARG           Argentina    LAC        LAC  Upper middle income (UM)   45%   \n",
       "3   ARM             Armenia    ECA       EECA  Upper middle income (UM)   85%   \n",
       "4   BGD          Bangladesh     SA         SA  Lower middle income (LM)   42%   \n",
       "5   BRB            Barbados    LAC        LAC           High income (H)   76%   \n",
       "\n",
       "0 Rural (Residence) Urban (Residence) Poorest (Wealth quintile)  \\\n",
       "1                2%               33%                        0%   \n",
       "2               NaN               NaN                       NaN   \n",
       "3               78%               91%                       54%   \n",
       "4               38%               57%                       13%   \n",
       "5               76%               76%                        4%   \n",
       "\n",
       "0 Richest (Wealth quintile)                        Data source Time period  \n",
       "1                       69%      Demographic and Health Survey     2015-16  \n",
       "2                       NaN  Multiple Indicator Cluster Survey     2011-12  \n",
       "3                      100%      Demographic and Health Survey     2015-16  \n",
       "4                       79%  Multiple Indicator Cluster Survey        2019  \n",
       "5                      100%  Multiple Indicator Cluster Survey        2012  "
      ]
     },
     "execution_count": 3,
     "metadata": {},
     "output_type": "execute_result"
    }
   ],
   "source": [
    "secondary.head()"
   ]
  },
  {
   "cell_type": "code",
   "execution_count": 4,
   "metadata": {
    "scrolled": true
   },
   "outputs": [
    {
     "data": {
      "text/html": [
       "<div>\n",
       "<style scoped>\n",
       "    .dataframe tbody tr th:only-of-type {\n",
       "        vertical-align: middle;\n",
       "    }\n",
       "\n",
       "    .dataframe tbody tr th {\n",
       "        vertical-align: top;\n",
       "    }\n",
       "\n",
       "    .dataframe thead th {\n",
       "        text-align: right;\n",
       "    }\n",
       "</style>\n",
       "<table border=\"1\" class=\"dataframe\">\n",
       "  <thead>\n",
       "    <tr style=\"text-align: right;\">\n",
       "      <th></th>\n",
       "      <th>ISO3</th>\n",
       "      <th>Countries and areas</th>\n",
       "      <th>Region</th>\n",
       "      <th>Sub-region</th>\n",
       "      <th>Income Group</th>\n",
       "      <th>Total</th>\n",
       "      <th>Rural (Residence)</th>\n",
       "      <th>Urban (Residence)</th>\n",
       "      <th>Poorest (Wealth quintile)</th>\n",
       "      <th>Richest (Wealth quintile)</th>\n",
       "      <th>Data source</th>\n",
       "      <th>Time period</th>\n",
       "    </tr>\n",
       "  </thead>\n",
       "  <tbody>\n",
       "    <tr>\n",
       "      <th>1</th>\n",
       "      <td>DZA</td>\n",
       "      <td>Algeria</td>\n",
       "      <td>MENA</td>\n",
       "      <td>MENA</td>\n",
       "      <td>Upper middle income (UM)</td>\n",
       "      <td>24%</td>\n",
       "      <td>9%</td>\n",
       "      <td>32%</td>\n",
       "      <td>1%</td>\n",
       "      <td>77%</td>\n",
       "      <td>Multiple Indicator Cluster Survey</td>\n",
       "      <td>2018-19</td>\n",
       "    </tr>\n",
       "    <tr>\n",
       "      <th>2</th>\n",
       "      <td>AGO</td>\n",
       "      <td>Angola</td>\n",
       "      <td>SSA</td>\n",
       "      <td>ESA</td>\n",
       "      <td>Lower middle income (LM)</td>\n",
       "      <td>17%</td>\n",
       "      <td>2%</td>\n",
       "      <td>24%</td>\n",
       "      <td>0%</td>\n",
       "      <td>62%</td>\n",
       "      <td>Demographic and Health Survey</td>\n",
       "      <td>2015-16</td>\n",
       "    </tr>\n",
       "    <tr>\n",
       "      <th>3</th>\n",
       "      <td>ARG</td>\n",
       "      <td>Argentina</td>\n",
       "      <td>LAC</td>\n",
       "      <td>LAC</td>\n",
       "      <td>Upper middle income (UM)</td>\n",
       "      <td>40%</td>\n",
       "      <td>NaN</td>\n",
       "      <td>NaN</td>\n",
       "      <td>NaN</td>\n",
       "      <td>NaN</td>\n",
       "      <td>Multiple Indicator Cluster Survey</td>\n",
       "      <td>2011-12</td>\n",
       "    </tr>\n",
       "    <tr>\n",
       "      <th>4</th>\n",
       "      <td>ARM</td>\n",
       "      <td>Armenia</td>\n",
       "      <td>ECA</td>\n",
       "      <td>EECA</td>\n",
       "      <td>Upper middle income (UM)</td>\n",
       "      <td>81%</td>\n",
       "      <td>71%</td>\n",
       "      <td>88%</td>\n",
       "      <td>47%</td>\n",
       "      <td>99%</td>\n",
       "      <td>Demographic and Health Survey</td>\n",
       "      <td>2015-16</td>\n",
       "    </tr>\n",
       "    <tr>\n",
       "      <th>5</th>\n",
       "      <td>BGD</td>\n",
       "      <td>Bangladesh</td>\n",
       "      <td>SA</td>\n",
       "      <td>SA</td>\n",
       "      <td>Lower middle income (LM)</td>\n",
       "      <td>37%</td>\n",
       "      <td>33%</td>\n",
       "      <td>52%</td>\n",
       "      <td>9%</td>\n",
       "      <td>76%</td>\n",
       "      <td>Multiple Indicator Cluster Survey</td>\n",
       "      <td>2019</td>\n",
       "    </tr>\n",
       "  </tbody>\n",
       "</table>\n",
       "</div>"
      ],
      "text/plain": [
       "0 ISO3 Countries and areas Region Sub-region              Income Group Total  \\\n",
       "1  DZA             Algeria   MENA       MENA  Upper middle income (UM)   24%   \n",
       "2  AGO              Angola    SSA        ESA  Lower middle income (LM)   17%   \n",
       "3  ARG           Argentina    LAC        LAC  Upper middle income (UM)   40%   \n",
       "4  ARM             Armenia    ECA       EECA  Upper middle income (UM)   81%   \n",
       "5  BGD          Bangladesh     SA         SA  Lower middle income (LM)   37%   \n",
       "\n",
       "0 Rural (Residence) Urban (Residence) Poorest (Wealth quintile)  \\\n",
       "1                9%               32%                        1%   \n",
       "2                2%               24%                        0%   \n",
       "3               NaN               NaN                       NaN   \n",
       "4               71%               88%                       47%   \n",
       "5               33%               52%                        9%   \n",
       "\n",
       "0 Richest (Wealth quintile)                        Data source Time period  \n",
       "1                       77%  Multiple Indicator Cluster Survey     2018-19  \n",
       "2                       62%      Demographic and Health Survey     2015-16  \n",
       "3                       NaN  Multiple Indicator Cluster Survey     2011-12  \n",
       "4                       99%      Demographic and Health Survey     2015-16  \n",
       "5                       76%  Multiple Indicator Cluster Survey        2019  "
      ]
     },
     "execution_count": 4,
     "metadata": {},
     "output_type": "execute_result"
    }
   ],
   "source": [
    "totalschoolage.head()"
   ]
  },
  {
   "cell_type": "code",
   "execution_count": 5,
   "metadata": {
    "scrolled": true
   },
   "outputs": [],
   "source": [
    "primary = primary.replace({'15%': np.nan}) \n",
    "primary = primary.fillna(0)\n",
    "secondary = secondary.fillna(0)\n",
    "totalschoolage = totalschoolage.fillna(0)"
   ]
  },
  {
   "cell_type": "code",
   "execution_count": 6,
   "metadata": {},
   "outputs": [],
   "source": [
    "#Removing the '%' from the objects and then turning them into floats.\n",
    "primary[['Total','Rural (Residence)','Urban (Residence)','Poorest (Wealth quintile)','Richest (Wealth quintile)']] = primary[['Total','Rural (Residence)','Urban (Residence)','Poorest (Wealth quintile)','Richest (Wealth quintile)']].replace('%', '', regex=True).astype(float)"
   ]
  },
  {
   "cell_type": "code",
   "execution_count": 7,
   "metadata": {},
   "outputs": [],
   "source": [
    "secondary[['Total','Rural (Residence)','Urban (Residence)','Poorest (Wealth quintile)','Richest (Wealth quintile)']] = secondary[['Total','Rural (Residence)','Urban (Residence)','Poorest (Wealth quintile)','Richest (Wealth quintile)']].replace('%', '', regex=True).astype(float)"
   ]
  },
  {
   "cell_type": "code",
   "execution_count": 8,
   "metadata": {},
   "outputs": [],
   "source": [
    "totalschoolage[['Total','Rural (Residence)','Urban (Residence)','Poorest (Wealth quintile)','Richest (Wealth quintile)']] = totalschoolage[['Total','Rural (Residence)','Urban (Residence)','Poorest (Wealth quintile)','Richest (Wealth quintile)']].replace('%', '', regex=True).astype(float)"
   ]
  },
  {
   "cell_type": "code",
   "execution_count": 9,
   "metadata": {},
   "outputs": [
    {
     "name": "stdout",
     "output_type": "stream",
     "text": [
      "0\n",
      "ISO3                         object\n",
      "Countries and areas          object\n",
      "Region                       object\n",
      "Sub-region                   object\n",
      "Income Group                 object\n",
      "Total                         int64\n",
      "Rural (Residence)             int64\n",
      "Urban (Residence)             int64\n",
      "Poorest (Wealth quintile)     int64\n",
      "Richest (Wealth quintile)     int64\n",
      "Data source                  object\n",
      "Time period                  object\n",
      "dtype: object\n"
     ]
    }
   ],
   "source": [
    "#Converting all the relevant columns into int64\n",
    "convertPrimary = {'Total': 'int64',\n",
    "                  'Rural (Residence)': 'int64',\n",
    "                  'Urban (Residence)': 'int64',\n",
    "                  'Poorest (Wealth quintile)': 'int64',\n",
    "                  'Richest (Wealth quintile)': 'int64'}\n",
    " \n",
    "primary = primary.astype(convertPrimary)\n",
    "print(primary.dtypes)"
   ]
  },
  {
   "cell_type": "code",
   "execution_count": 10,
   "metadata": {},
   "outputs": [],
   "source": [
    "convertSecondary = {'Total': 'int64',\n",
    "                  'Rural (Residence)': 'int64',\n",
    "                  'Urban (Residence)': 'int64',\n",
    "                  'Poorest (Wealth quintile)': 'int64',\n",
    "                  'Richest (Wealth quintile)': 'int64'}\n",
    " \n",
    "secondary = secondary.astype(convertSecondary)"
   ]
  },
  {
   "cell_type": "code",
   "execution_count": 11,
   "metadata": {},
   "outputs": [],
   "source": [
    "convertTotalSchoolAge = {'Total': 'int64',\n",
    "                  'Rural (Residence)': 'int64',\n",
    "                  'Urban (Residence)': 'int64',\n",
    "                  'Poorest (Wealth quintile)': 'int64',\n",
    "                  'Richest (Wealth quintile)': 'int64'}\n",
    " \n",
    "totalschoolage = totalschoolage.astype(convertTotalSchoolAge)"
   ]
  },
  {
   "cell_type": "code",
   "execution_count": 12,
   "metadata": {},
   "outputs": [
    {
     "data": {
      "text/html": [
       "<div>\n",
       "<style scoped>\n",
       "    .dataframe tbody tr th:only-of-type {\n",
       "        vertical-align: middle;\n",
       "    }\n",
       "\n",
       "    .dataframe tbody tr th {\n",
       "        vertical-align: top;\n",
       "    }\n",
       "\n",
       "    .dataframe thead th {\n",
       "        text-align: right;\n",
       "    }\n",
       "</style>\n",
       "<table border=\"1\" class=\"dataframe\">\n",
       "  <thead>\n",
       "    <tr style=\"text-align: right;\">\n",
       "      <th></th>\n",
       "      <th>ISO3</th>\n",
       "      <th>Countries and areas</th>\n",
       "      <th>Region</th>\n",
       "      <th>Sub-region</th>\n",
       "      <th>Income Group</th>\n",
       "      <th>Total</th>\n",
       "      <th>Rural (Residence)</th>\n",
       "      <th>Urban (Residence)</th>\n",
       "      <th>Poorest (Wealth quintile)</th>\n",
       "      <th>Richest (Wealth quintile)</th>\n",
       "      <th>Data source</th>\n",
       "      <th>Time period</th>\n",
       "    </tr>\n",
       "  </thead>\n",
       "  <tbody>\n",
       "    <tr>\n",
       "      <th>1</th>\n",
       "      <td>AGO</td>\n",
       "      <td>Angola</td>\n",
       "      <td>SSA</td>\n",
       "      <td>ESA</td>\n",
       "      <td>Lower middle income (LM)</td>\n",
       "      <td>0</td>\n",
       "      <td>2</td>\n",
       "      <td>22</td>\n",
       "      <td>0</td>\n",
       "      <td>61</td>\n",
       "      <td>Demographic and Health Survey</td>\n",
       "      <td>2015-16</td>\n",
       "    </tr>\n",
       "    <tr>\n",
       "      <th>2</th>\n",
       "      <td>ARG</td>\n",
       "      <td>Argentina</td>\n",
       "      <td>LAC</td>\n",
       "      <td>LAC</td>\n",
       "      <td>Upper middle income (UM)</td>\n",
       "      <td>39</td>\n",
       "      <td>0</td>\n",
       "      <td>0</td>\n",
       "      <td>0</td>\n",
       "      <td>0</td>\n",
       "      <td>Multiple Indicator Cluster Survey</td>\n",
       "      <td>2011-12</td>\n",
       "    </tr>\n",
       "    <tr>\n",
       "      <th>3</th>\n",
       "      <td>ARM</td>\n",
       "      <td>Armenia</td>\n",
       "      <td>ECA</td>\n",
       "      <td>EECA</td>\n",
       "      <td>Upper middle income (UM)</td>\n",
       "      <td>81</td>\n",
       "      <td>69</td>\n",
       "      <td>89</td>\n",
       "      <td>46</td>\n",
       "      <td>99</td>\n",
       "      <td>Demographic and Health Survey</td>\n",
       "      <td>2015-16</td>\n",
       "    </tr>\n",
       "    <tr>\n",
       "      <th>4</th>\n",
       "      <td>BGD</td>\n",
       "      <td>Bangladesh</td>\n",
       "      <td>SA</td>\n",
       "      <td>SA</td>\n",
       "      <td>Lower middle income (LM)</td>\n",
       "      <td>34</td>\n",
       "      <td>30</td>\n",
       "      <td>49</td>\n",
       "      <td>7</td>\n",
       "      <td>75</td>\n",
       "      <td>Multiple Indicator Cluster Survey</td>\n",
       "      <td>2019</td>\n",
       "    </tr>\n",
       "    <tr>\n",
       "      <th>5</th>\n",
       "      <td>BRB</td>\n",
       "      <td>Barbados</td>\n",
       "      <td>LAC</td>\n",
       "      <td>LAC</td>\n",
       "      <td>High income (H)</td>\n",
       "      <td>63</td>\n",
       "      <td>54</td>\n",
       "      <td>68</td>\n",
       "      <td>9</td>\n",
       "      <td>97</td>\n",
       "      <td>Multiple Indicator Cluster Survey</td>\n",
       "      <td>2012</td>\n",
       "    </tr>\n",
       "  </tbody>\n",
       "</table>\n",
       "</div>"
      ],
      "text/plain": [
       "0 ISO3 Countries and areas Region Sub-region              Income Group  Total  \\\n",
       "1  AGO              Angola    SSA        ESA  Lower middle income (LM)      0   \n",
       "2  ARG           Argentina    LAC        LAC  Upper middle income (UM)     39   \n",
       "3  ARM             Armenia    ECA       EECA  Upper middle income (UM)     81   \n",
       "4  BGD          Bangladesh     SA         SA  Lower middle income (LM)     34   \n",
       "5  BRB            Barbados    LAC        LAC           High income (H)     63   \n",
       "\n",
       "0  Rural (Residence)  Urban (Residence)  Poorest (Wealth quintile)  \\\n",
       "1                  2                 22                          0   \n",
       "2                  0                  0                          0   \n",
       "3                 69                 89                         46   \n",
       "4                 30                 49                          7   \n",
       "5                 54                 68                          9   \n",
       "\n",
       "0  Richest (Wealth quintile)                        Data source Time period  \n",
       "1                         61      Demographic and Health Survey     2015-16  \n",
       "2                          0  Multiple Indicator Cluster Survey     2011-12  \n",
       "3                         99      Demographic and Health Survey     2015-16  \n",
       "4                         75  Multiple Indicator Cluster Survey        2019  \n",
       "5                         97  Multiple Indicator Cluster Survey        2012  "
      ]
     },
     "execution_count": 12,
     "metadata": {},
     "output_type": "execute_result"
    }
   ],
   "source": [
    "#Will be the same for Secondary and Total School Age.\n",
    "primary.head()"
   ]
  },
  {
   "cell_type": "code",
   "execution_count": 13,
   "metadata": {},
   "outputs": [
    {
     "data": {
      "text/plain": [
       "(85, 12)"
      ]
     },
     "execution_count": 13,
     "metadata": {},
     "output_type": "execute_result"
    }
   ],
   "source": [
    "subregions = ['EAP', 'ECA', 'EECA', 'ESA', 'LAC', 'MENA', 'NA', 'SA', 'SSA', 'WCA']\n",
    "\n",
    "subPrimary = primary[primary['Sub-region'].isin(subregions)]\n",
    "\n",
    "subPrimary.shape"
   ]
  },
  {
   "cell_type": "code",
   "execution_count": 14,
   "metadata": {},
   "outputs": [
    {
     "name": "stdout",
     "output_type": "stream",
     "text": [
      "0  ISO3 Countries and areas Region Sub-region     Income Group  Total  \\\n",
      "35  ITA               Italy    ECA         WE  High income (H)     63   \n",
      "82  GBR      United Kingdom    ECA         WE  High income (H)     99   \n",
      "\n",
      "0   Rural (Residence)  Urban (Residence)  Poorest (Wealth quintile)  \\\n",
      "35                  0                  0                          0   \n",
      "82                  0                  0                          0   \n",
      "\n",
      "0   Richest (Wealth quintile)  \\\n",
      "35                          0   \n",
      "82                          0   \n",
      "\n",
      "0                                         Data source Time period  \n",
      "35  Multiscopo sulle famiglie: aspetti della vita ...        2018  \n",
      "82  UK Data Archive Information for the Study 8298...        2016  \n"
     ]
    }
   ],
   "source": [
    "invalidSubRegions = primary[~primary['Sub-region'].isin(subregions)]\n",
    "print(invalidSubRegions)"
   ]
  },
  {
   "cell_type": "code",
   "execution_count": 15,
   "metadata": {},
   "outputs": [],
   "source": [
    "primary.loc[35, 'Sub-region'] = np.nan\n",
    "primary.loc[82, 'Sub-region'] = np.nan"
   ]
  },
  {
   "cell_type": "code",
   "execution_count": 16,
   "metadata": {},
   "outputs": [
    {
     "name": "stdout",
     "output_type": "stream",
     "text": [
      "0  ISO3 Countries and areas Region Sub-region     Income Group  Total  \\\n",
      "82  GBR      United Kingdom    ECA        NaN  High income (H)     99   \n",
      "35  ITA               Italy    ECA        NaN  High income (H)     63   \n",
      "\n",
      "0   Rural (Residence)  Urban (Residence)  Poorest (Wealth quintile)  \\\n",
      "82                  0                  0                          0   \n",
      "35                  0                  0                          0   \n",
      "\n",
      "0   Richest (Wealth quintile)  \\\n",
      "82                          0   \n",
      "35                          0   \n",
      "\n",
      "0                                         Data source Time period  \n",
      "82  UK Data Archive Information for the Study 8298...        2016  \n",
      "35  Multiscopo sulle famiglie: aspetti della vita ...        2018  \n"
     ]
    }
   ],
   "source": [
    "print(primary.loc[[82,35]])"
   ]
  },
  {
   "cell_type": "code",
   "execution_count": 17,
   "metadata": {},
   "outputs": [
    {
     "data": {
      "text/plain": [
       "(80, 12)"
      ]
     },
     "execution_count": 17,
     "metadata": {},
     "output_type": "execute_result"
    }
   ],
   "source": [
    "subSecondary = secondary[secondary['Sub-region'].isin(subregions)]\n",
    "invalidSubRegionsSecondary = secondary[~secondary['Sub-region'].isin(subregions)]\n",
    "subSecondary.shape"
   ]
  },
  {
   "cell_type": "code",
   "execution_count": 18,
   "metadata": {},
   "outputs": [],
   "source": [
    "secondary.loc[32, 'Sub-region'] = np.nan\n",
    "secondary.loc[77, 'Sub-region'] = np.nan"
   ]
  },
  {
   "cell_type": "code",
   "execution_count": 19,
   "metadata": {},
   "outputs": [
    {
     "data": {
      "text/plain": [
       "(86, 12)"
      ]
     },
     "execution_count": 19,
     "metadata": {},
     "output_type": "execute_result"
    }
   ],
   "source": [
    "subTotalSchoolAge = totalschoolage[totalschoolage['Sub-region'].isin(subregions)]\n",
    "invalidSubRegionsTotal = totalschoolage[~totalschoolage['Sub-region'].isin(subregions)]\n",
    "subTotalSchoolAge.shape"
   ]
  },
  {
   "cell_type": "code",
   "execution_count": 20,
   "metadata": {},
   "outputs": [],
   "source": [
    "totalschoolage.loc[82, 'Sub-region'] = np.nan"
   ]
  },
  {
   "cell_type": "code",
   "execution_count": 21,
   "metadata": {},
   "outputs": [],
   "source": [
    "primary = primary.drop(columns=['Data source', 'Time period'])"
   ]
  },
  {
   "cell_type": "code",
   "execution_count": 22,
   "metadata": {},
   "outputs": [],
   "source": [
    "secondary = secondary.drop(columns=['Data source', 'Time period'])"
   ]
  },
  {
   "cell_type": "code",
   "execution_count": 23,
   "metadata": {},
   "outputs": [],
   "source": [
    "totalschoolage = totalschoolage.drop(columns=['Data source', 'Time period'])"
   ]
  },
  {
   "cell_type": "code",
   "execution_count": 24,
   "metadata": {},
   "outputs": [],
   "source": [
    "string_cols = primary.select_dtypes(include=['object']).columns\n",
    "primary[string_cols] = primary[string_cols].apply(lambda x: x.str.strip())"
   ]
  },
  {
   "cell_type": "code",
   "execution_count": 25,
   "metadata": {},
   "outputs": [],
   "source": [
    "string_cols = secondary.select_dtypes(include=['object']).columns\n",
    "secondary[string_cols] = secondary[string_cols].apply(lambda x: x.str.strip())"
   ]
  },
  {
   "cell_type": "code",
   "execution_count": 26,
   "metadata": {},
   "outputs": [],
   "source": [
    "string_cols = totalschoolage.select_dtypes(include=['object']).columns\n",
    "totalschoolage[string_cols] = totalschoolage[string_cols].apply(lambda x: x.str.strip())"
   ]
  },
  {
   "cell_type": "code",
   "execution_count": 27,
   "metadata": {},
   "outputs": [],
   "source": [
    "primary.to_csv('cleanPrimary.csv')"
   ]
  },
  {
   "cell_type": "code",
   "execution_count": 28,
   "metadata": {},
   "outputs": [],
   "source": [
    "secondary.to_csv('cleanSecondary.csv')"
   ]
  },
  {
   "cell_type": "code",
   "execution_count": 29,
   "metadata": {},
   "outputs": [],
   "source": [
    "totalschoolage.to_csv('cleanTotalschoolage.csv')"
   ]
  },
  {
   "cell_type": "markdown",
   "metadata": {
    "id": "r-i5aIqXpPbu"
   },
   "source": [
    "# Task 2: Data Exploration"
   ]
  },
  {
   "cell_type": "markdown",
   "metadata": {
    "id": "QOY4K_neos9j"
   },
   "source": [
    "## Task 2.1 "
   ]
  },
  {
   "cell_type": "code",
   "execution_count": 30,
   "metadata": {
    "id": "ziwtOfWJn-Eh"
   },
   "outputs": [
    {
     "data": {
      "image/png": "[encoded data removed]",
      "text/plain": [
       "<Figure size 1152x576 with 1 Axes>"
      ]
     },
     "metadata": {
      "needs_background": "light"
     },
     "output_type": "display_data"
    }
   ],
   "source": [
    "# Code goes after this line by adding cells\n",
    "import matplotlib.pyplot as plt\n",
    "\n",
    "countrydf = primary.groupby('Countries and areas')['Total'].sum().reset_index()\n",
    "\n",
    "countrydf = countrydf.sort_values('Total', ascending=False)\n",
    "\n",
    "plt.figure(figsize=(16,8))\n",
    "plt.bar(countrydf['Countries and areas'], countrydf['Total'])\n",
    "plt.xticks(rotation=90)\n",
    "plt.xlabel('Countries and areas')\n",
    "plt.ylabel('Total % of Children with internet at home')\n",
    "plt.title('Total % of children that have internet at home by country')\n",
    "plt.show()"
   ]
  },
  {
   "cell_type": "code",
   "execution_count": 31,
   "metadata": {},
   "outputs": [
    {
     "data": {
      "image/png": "[encoded data removed]",
      "text/plain": [
       "<Figure size 720x432 with 1 Axes>"
      ]
     },
     "metadata": {
      "needs_background": "light"
     },
     "output_type": "display_data"
    }
   ],
   "source": [
    "import seaborn as sns\n",
    "plt.figure(figsize=(10,6))\n",
    "sns.boxplot(x=primary['Income Group'], y=primary['Total'])\n",
    "plt.xlabel('Income Group')\n",
    "plt.ylabel('Total % of Children with internet at home')\n",
    "plt.title('Distribution of total number of children in primary school by income group')\n",
    "plt.show()"
   ]
  },
  {
   "cell_type": "code",
   "execution_count": 32,
   "metadata": {},
   "outputs": [
    {
     "data": {
      "image/png": "[encoded data removed]",
      "text/plain": [
       "<Figure size 288x1152 with 1 Axes>"
      ]
     },
     "metadata": {
      "needs_background": "light"
     },
     "output_type": "display_data"
    }
   ],
   "source": [
    "primary = primary[['Countries and areas', 'Rural (Residence)', 'Urban (Residence)']]\n",
    "\n",
    "plt.figure(figsize=(4, 16))\n",
    "plt.scatter(primary['Rural (Residence)'], primary['Countries and areas'], color='red', label='Rural')\n",
    "plt.scatter(primary['Urban (Residence)'], primary['Countries and areas'], color='blue', label='Urban')\n",
    "\n",
    "plt.title('Percentage of Students with Internet Access in Rural and Urban Areas')\n",
    "plt.xlabel('Percentage of student with internet access')\n",
    "plt.ylabel('Country')\n",
    "\n",
    "plt.legend()\n",
    "plt.show()"
   ]
  },
  {
   "cell_type": "markdown",
   "metadata": {
    "id": "0-HLFaWTo7Gr"
   },
   "source": [
    "## Task 2.2 "
   ]
  },
  {
   "cell_type": "code",
   "execution_count": 33,
   "metadata": {
    "id": "k3-8Pbi1n-Ei"
   },
   "outputs": [
    {
     "data": {
      "text/html": [
       "<div>\n",
       "<style scoped>\n",
       "    .dataframe tbody tr th:only-of-type {\n",
       "        vertical-align: middle;\n",
       "    }\n",
       "\n",
       "    .dataframe tbody tr th {\n",
       "        vertical-align: top;\n",
       "    }\n",
       "\n",
       "    .dataframe thead th {\n",
       "        text-align: right;\n",
       "    }\n",
       "</style>\n",
       "<table border=\"1\" class=\"dataframe\">\n",
       "  <thead>\n",
       "    <tr style=\"text-align: right;\">\n",
       "      <th></th>\n",
       "      <th>ISO3</th>\n",
       "      <th>Countries and areas</th>\n",
       "      <th>Region</th>\n",
       "      <th>Sub-region</th>\n",
       "      <th>Income Group</th>\n",
       "      <th>Total</th>\n",
       "      <th>Rural (Residence)</th>\n",
       "      <th>Urban (Residence)</th>\n",
       "      <th>Poorest (Wealth quintile)</th>\n",
       "      <th>Richest (Wealth quintile)</th>\n",
       "    </tr>\n",
       "  </thead>\n",
       "  <tbody>\n",
       "    <tr>\n",
       "      <th>63</th>\n",
       "      <td>SRB</td>\n",
       "      <td>Serbia</td>\n",
       "      <td>ECA</td>\n",
       "      <td>EECA</td>\n",
       "      <td>Upper middle income (UM)</td>\n",
       "      <td>94</td>\n",
       "      <td>91</td>\n",
       "      <td>97</td>\n",
       "      <td>71</td>\n",
       "      <td>100</td>\n",
       "    </tr>\n",
       "    <tr>\n",
       "      <th>75</th>\n",
       "      <td>TON</td>\n",
       "      <td>Tonga</td>\n",
       "      <td>EAP</td>\n",
       "      <td>EAP</td>\n",
       "      <td>Upper middle income (UM)</td>\n",
       "      <td>91</td>\n",
       "      <td>90</td>\n",
       "      <td>94</td>\n",
       "      <td>83</td>\n",
       "      <td>95</td>\n",
       "    </tr>\n",
       "    <tr>\n",
       "      <th>73</th>\n",
       "      <td>MKD</td>\n",
       "      <td>North Macedonia</td>\n",
       "      <td>ECA</td>\n",
       "      <td>EECA</td>\n",
       "      <td>Upper middle income (UM)</td>\n",
       "      <td>92</td>\n",
       "      <td>90</td>\n",
       "      <td>93</td>\n",
       "      <td>70</td>\n",
       "      <td>100</td>\n",
       "    </tr>\n",
       "    <tr>\n",
       "      <th>36</th>\n",
       "      <td>JPN</td>\n",
       "      <td>Japan</td>\n",
       "      <td>EAP</td>\n",
       "      <td>EAP</td>\n",
       "      <td>High income (H)</td>\n",
       "      <td>78</td>\n",
       "      <td>83</td>\n",
       "      <td>77</td>\n",
       "      <td>62</td>\n",
       "      <td>87</td>\n",
       "    </tr>\n",
       "    <tr>\n",
       "      <th>59</th>\n",
       "      <td>RUS</td>\n",
       "      <td>Russian Federation</td>\n",
       "      <td>ECA</td>\n",
       "      <td>EECA</td>\n",
       "      <td>Upper middle income (UM)</td>\n",
       "      <td>89</td>\n",
       "      <td>79</td>\n",
       "      <td>94</td>\n",
       "      <td>89</td>\n",
       "      <td>100</td>\n",
       "    </tr>\n",
       "    <tr>\n",
       "      <th>49</th>\n",
       "      <td>MNE</td>\n",
       "      <td>Montenegro</td>\n",
       "      <td>ECA</td>\n",
       "      <td>EECA</td>\n",
       "      <td>Upper middle income (UM)</td>\n",
       "      <td>82</td>\n",
       "      <td>74</td>\n",
       "      <td>86</td>\n",
       "      <td>49</td>\n",
       "      <td>99</td>\n",
       "    </tr>\n",
       "    <tr>\n",
       "      <th>28</th>\n",
       "      <td>GEO</td>\n",
       "      <td>Georgia</td>\n",
       "      <td>ECA</td>\n",
       "      <td>EECA</td>\n",
       "      <td>Upper middle income (UM)</td>\n",
       "      <td>85</td>\n",
       "      <td>72</td>\n",
       "      <td>93</td>\n",
       "      <td>51</td>\n",
       "      <td>99</td>\n",
       "    </tr>\n",
       "    <tr>\n",
       "      <th>4</th>\n",
       "      <td>ARM</td>\n",
       "      <td>Armenia</td>\n",
       "      <td>ECA</td>\n",
       "      <td>EECA</td>\n",
       "      <td>Upper middle income (UM)</td>\n",
       "      <td>81</td>\n",
       "      <td>71</td>\n",
       "      <td>88</td>\n",
       "      <td>47</td>\n",
       "      <td>99</td>\n",
       "    </tr>\n",
       "    <tr>\n",
       "      <th>16</th>\n",
       "      <td>CHL</td>\n",
       "      <td>Chile</td>\n",
       "      <td>LAC</td>\n",
       "      <td>LAC</td>\n",
       "      <td>High income (H)</td>\n",
       "      <td>86</td>\n",
       "      <td>70</td>\n",
       "      <td>89</td>\n",
       "      <td>73</td>\n",
       "      <td>99</td>\n",
       "    </tr>\n",
       "    <tr>\n",
       "      <th>40</th>\n",
       "      <td>KGZ</td>\n",
       "      <td>Kyrgyzstan</td>\n",
       "      <td>ECA</td>\n",
       "      <td>EECA</td>\n",
       "      <td>Lower middle income (LM)</td>\n",
       "      <td>74</td>\n",
       "      <td>69</td>\n",
       "      <td>83</td>\n",
       "      <td>54</td>\n",
       "      <td>91</td>\n",
       "    </tr>\n",
       "  </tbody>\n",
       "</table>\n",
       "</div>"
      ],
      "text/plain": [
       "0  ISO3 Countries and areas Region Sub-region              Income Group  \\\n",
       "63  SRB              Serbia    ECA       EECA  Upper middle income (UM)   \n",
       "75  TON               Tonga    EAP        EAP  Upper middle income (UM)   \n",
       "73  MKD     North Macedonia    ECA       EECA  Upper middle income (UM)   \n",
       "36  JPN               Japan    EAP        EAP           High income (H)   \n",
       "59  RUS  Russian Federation    ECA       EECA  Upper middle income (UM)   \n",
       "49  MNE          Montenegro    ECA       EECA  Upper middle income (UM)   \n",
       "28  GEO             Georgia    ECA       EECA  Upper middle income (UM)   \n",
       "4   ARM             Armenia    ECA       EECA  Upper middle income (UM)   \n",
       "16  CHL               Chile    LAC        LAC           High income (H)   \n",
       "40  KGZ          Kyrgyzstan    ECA       EECA  Lower middle income (LM)   \n",
       "\n",
       "0   Total  Rural (Residence)  Urban (Residence)  Poorest (Wealth quintile)  \\\n",
       "63     94                 91                 97                         71   \n",
       "75     91                 90                 94                         83   \n",
       "73     92                 90                 93                         70   \n",
       "36     78                 83                 77                         62   \n",
       "59     89                 79                 94                         89   \n",
       "49     82                 74                 86                         49   \n",
       "28     85                 72                 93                         51   \n",
       "4      81                 71                 88                         47   \n",
       "16     86                 70                 89                         73   \n",
       "40     74                 69                 83                         54   \n",
       "\n",
       "0   Richest (Wealth quintile)  \n",
       "63                        100  \n",
       "75                         95  \n",
       "73                        100  \n",
       "36                         87  \n",
       "59                        100  \n",
       "49                         99  \n",
       "28                         99  \n",
       "4                          99  \n",
       "16                         99  \n",
       "40                         91  "
      ]
     },
     "execution_count": 33,
     "metadata": {},
     "output_type": "execute_result"
    }
   ],
   "source": [
    "# Code goes after this line by adding cells\n",
    "totalschoolage.sort_values(by=['Rural (Residence)','Urban (Residence)'], ascending=False, inplace=True)\n",
    "\n",
    "totalschoolage.head(10)"
   ]
  },
  {
   "cell_type": "markdown",
   "metadata": {
    "id": "jnasiwOAo_RP"
   },
   "source": [
    "## Task 2.3 "
   ]
  },
  {
   "cell_type": "code",
   "execution_count": 34,
   "metadata": {
    "id": "hHsmCb2gn-Ei"
   },
   "outputs": [
    {
     "data": {
      "image/png": "[encoded data removed]",
      "text/plain": [
       "<Figure size 432x288 with 1 Axes>"
      ]
     },
     "metadata": {
      "needs_background": "light"
     },
     "output_type": "display_data"
    }
   ],
   "source": [
    "# Had to re-import the csv files as the same variable has been edited in the previous tasks.\n",
    "primary = pd.read_csv('cleanPrimary.csv', index_col=False)\n",
    "secondary = pd.read_csv('cleanSecondary.csv', index_col=False)\n",
    "\n",
    "primary_LM = primary[primary['Income Group'] == 'Lower middle income (LM)']\n",
    "secondary_LM = secondary[secondary['Income Group'] == 'Lower middle income (LM)']\n",
    "\n",
    "mean_primary = primary_LM['Total'].mean()\n",
    "mean_secondary = secondary_LM['Total'].mean()\n",
    "\n",
    "plt.bar(['Primary', 'Secondary'], [mean_primary, mean_secondary], color=['red', 'blue'])\n",
    "plt.title('Percentage of children with internet connection at home in Lower middle income countries')\n",
    "plt.ylabel('Percentage')\n",
    "plt.show()"
   ]
  }
 ],
 "metadata": {
  "colab": {
   "collapsed_sections": [],
   "name": "assignment1_TEMPLATE.ipynb",
   "provenance": [],
   "toc_visible": true
  },
  "kernelspec": {
   "display_name": "Python 3",
   "language": "python",
   "name": "python3"
  },
  "language_info": {
   "codemirror_mode": {
    "name": "ipython",
    "version": 3
   },
   "file_extension": ".py",
   "mimetype": "text/x-python",
   "name": "python",
   "nbconvert_exporter": "python",
   "pygments_lexer": "ipython3",
   "version": "3.8.8"
  }
 },
 "nbformat": 4,
 "nbformat_minor": 1
}
